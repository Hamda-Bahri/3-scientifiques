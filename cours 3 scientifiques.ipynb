{
 "cells": [
  {
   "cell_type": "markdown",
   "id": "850e5d01",
   "metadata": {},
   "source": [
    "<pre><font color ='blue' size ='5' face='tahoma'><b>Prof : Hamda Elbahri &nbsp&nbsp&nbsp&nbsp&nbsp&nbsp&nbsp&nbsp&nbsp&nbsp&nbsp&nbsp&nbsp&nbsp&nbsp&nbsp</a><img src=https://zupimages.net/up/23/42/go3y.png width =\"200\" height =\"150\n",
    "\" alt=\"\" /></a>Niveau : 3ème Année  </pre>"
   ]
  },
  {
   "cell_type": "markdown",
   "id": "1d091bb1",
   "metadata": {},
   "source": [
    "<table width=100%>\n",
    "<tr><td width=20%>\n",
    "<a href=\"http://zupimages.net/viewer.php?id=19/44/wffa.jpg\"><img src=\"https://zupimages.net/up/20/40/xkce.jpg\" width =\"140\" height =\"90\" alt=\"\" /></a> </td><td><font color ='crimson' size ='8' face='tahoma'><b>PENSEE COMPUTATIONNELLE <br>& PROGRAMMATION PYTHON</td></tr></table>"
   ]
  },
  {
   "cell_type": "markdown",
   "id": "17a19887",
   "metadata": {},
   "source": [
    "# <font color=teal> **1. <u>Algorithme**<br></u>\n",
    "Un algorithme est une suite finie et ordonnée  <b><font color=blue>d’actions ou d’instructions</font></b>, permettant de résoudre un  problème posé.<br><br>\n",
    "\n",
    "<a href=\"http://zupimages.net/viewer.php?id=19/44/wffa.jpg\"><img src=\"https://zupimages.net/up/23/39/2i9b.jpg\"> </a><br>\n",
    "<font color=\tmediumvioletred face=tahoma size=4><U>**Constatation</U> :**</font> <table  align=left width=90%><tr><td bgcolor=\tpalevioletred><font size=3 color=black><b>Un programme a besoin d'objets qui seront mis en œuvre pour arriver à la solution finale. Ce sont  généralement <br><font color=blue>les  constantes et les variables </font>utilisées dans un programme."
   ]
  },

  {
   "cell_type": "markdown",
   "id": "8d95a54d",
   "metadata": {},
   "source": [
    "# <font color=teal> **2. <u>Les opérations élémentaires simples** <br></u>"
   ]
  },
  {
   "cell_type": "markdown",
   "id": "6892b025",
   "metadata": {},
   "source": [
    "<a href=\"https://zupimages.net/viewer.php?id=23/42/rmyv.png\"><img src=\"https://zupimages.net/up/23/42/rmyv.png\">"
   ]
  },
  {
   "cell_type": "markdown",
   "id": "7a626aca",
   "metadata": {},
   "source": [
    "<a href=\"https://zupimages.net/viewer.php?id=23/42/rku7.png\"><img src=\"https://zupimages.net/up/23/42/rku7.png\">"
   ]
  },
  {
   "cell_type": "markdown",
   "id": "ad38b64d",
   "metadata": {},
   "source": [
    "# <font color=teal>3 <u>Les opérateurs arithmétiques et logiques<br></u>"
   ]
  },
  {
   "cell_type": "markdown",
   "id": "c26ed5cc",
   "metadata": {},
   "source": [
    "<a href=\"https://zupimages.net/viewer.php?id=23/42/czth.jpg\"><img src=\"https://zupimages.net/up/23/42/czth.jpg\">"
   ]
  }
 ],
 "metadata": {
  "kernelspec": {
   "display_name": "Python 3 (ipykernel)",
   "language": "python",
   "name": "python3"
  },
  "language_info": {
   "codemirror_mode": {
    "name": "ipython",
    "version": 3
   },
   "file_extension": ".py",
   "mimetype": "text/x-python",
   "name": "python",
   "nbconvert_exporter": "python",
   "pygments_lexer": "ipython3",
   "version": "3.10.5"
  }
 },
 "nbformat": 4,
 "nbformat_minor": 5
}
